{
 "cells": [
  {
   "cell_type": "code",
   "execution_count": 14,
   "metadata": {},
   "outputs": [
    {
     "name": "stdout",
     "output_type": "stream",
     "text": [
      "All tables have been dropped.\n"
     ]
    }
   ],
   "source": [
    "import sqlite3\n",
    "import requests\n",
    "from sqlite3 import Error\n",
    "from utility import clear_database, create_tables\n",
    "\n",
    "\n",
    "if __name__ == '__main__':\n",
    "    clear_database('projectdatabase.db')\n",
    "    create_tables('projectdatabase.db')"
   ]
  },
  {
   "cell_type": "code",
   "execution_count": 15,
   "metadata": {},
   "outputs": [
    {
     "name": "stdout",
     "output_type": "stream",
     "text": [
      "Schema of table user:\n",
      "(0, 'user_id', 'INTEGER', 0, None, 1)\n",
      "(1, 'user_name', 'TEXT', 1, None, 0)\n",
      "(2, 'user_password', 'TEXT', 1, None, 0)\n",
      "(3, 'user_email', 'TEXT', 1, None, 0)\n",
      "\n",
      "\n",
      "Schema of table authorization:\n",
      "(0, 'auth_email', 'TEXT', 1, None, 1)\n",
      "(1, 'auth_password', 'TEXT', 1, None, 0)\n",
      "\n",
      "\n",
      "Schema of table dataupload:\n",
      "(0, 'user_id', 'INTEGER', 0, None, 0)\n",
      "(1, 'data_id', 'INTEGER', 0, None, 1)\n",
      "(2, 'train_data', 'TEXT', 0, None, 0)\n",
      "(3, 'test_data', 'TEXT', 0, None, 0)\n",
      "(4, 'train_label', 'TEXT', 0, None, 0)\n",
      "(5, 'test_label', 'TEXT', 0, None, 0)\n",
      "\n",
      "\n",
      "Schema of table model:\n",
      "(0, 'user_id', 'INTEGER', 0, None, 0)\n",
      "(1, 'model_id', 'INTEGER', 0, None, 1)\n",
      "(2, 'model_ver', 'TEXT', 0, None, 0)\n",
      "\n",
      "\n",
      "Schema of table projects:\n",
      "(0, 'project_id', 'INTEGER', 0, None, 1)\n",
      "(1, 'user_id', 'INTEGER', 0, None, 0)\n",
      "(2, 'model_id', 'INTEGER', 0, None, 0)\n",
      "(3, 'data_id', 'INTEGER', 0, None, 0)\n",
      "\n",
      "\n",
      "Schema of table training:\n",
      "(0, 'product_id', 'INTEGER', 0, None, 1)\n",
      "(1, 'data_id', 'INTEGER', 0, None, 0)\n",
      "(2, 'training_points', 'TEXT', 0, None, 0)\n",
      "(3, 'training_parameters', 'TEXT', 0, None, 0)\n",
      "(4, 'training_result', 'TEXT', 0, None, 0)\n",
      "\n",
      "\n",
      "Schema of table analysis:\n",
      "(0, 'product_id', 'INTEGER', 0, None, 1)\n",
      "(1, 'model_id', 'INTEGER', 0, None, 0)\n",
      "(2, 'training_result', 'TEXT', 0, None, 0)\n",
      "(3, 'test_result', 'TEXT', 0, None, 0)\n",
      "(4, 'ana_result', 'TEXT', 0, None, 0)\n",
      "\n",
      "\n",
      "Schema of table testing:\n",
      "(0, 'product_id', 'INTEGER', 0, None, 1)\n",
      "(1, 'data_id', 'INTEGER', 0, None, 0)\n",
      "(2, 'testing_result', 'TEXT', 0, None, 0)\n",
      "\n",
      "\n",
      "Schema of table publishing:\n",
      "(0, 'user_id', 'INTEGER', 0, None, 1)\n",
      "(1, 'project_id', 'INTEGER', 0, None, 2)\n",
      "(2, 'data_id', 'INTEGER', 0, None, 0)\n",
      "(3, 'ana_result', 'TEXT', 0, None, 0)\n",
      "\n",
      "\n"
     ]
    }
   ],
   "source": [
    "import sqlite3\n",
    "\n",
    "def print_table_schema(database_name):\n",
    "    # Connect to the SQLite database\n",
    "    conn = sqlite3.connect(database_name)\n",
    "    cursor = conn.cursor()\n",
    "\n",
    "    # Get list of tables\n",
    "    cursor.execute(\"SELECT name FROM sqlite_master WHERE type='table';\")\n",
    "    tables = cursor.fetchall()\n",
    "\n",
    "    # Print schema for each table\n",
    "    for table in tables:\n",
    "        print(f\"Schema of table {table[0]}:\")\n",
    "        cursor.execute(f\"PRAGMA table_info({table[0]});\")\n",
    "        columns = cursor.fetchall()\n",
    "        for column in columns:\n",
    "            print(column)\n",
    "        print(\"\\n\")  # Add a newline for better readability between tables\n",
    "\n",
    "    # Close the connection\n",
    "    conn.close()\n",
    "\n",
    "if __name__ == '__main__':\n",
    "    print_table_schema('projectdatabase.db')"
   ]
  },
  {
   "cell_type": "code",
   "execution_count": 16,
   "metadata": {},
   "outputs": [
    {
     "name": "stdout",
     "output_type": "stream",
     "text": [
      "Status Code: 201\n",
      "Response Body: {'status': 'success', 'auth_email': 'yishen@bu.edu'}\n",
      "Status Code: 201\n",
      "Response Body: {'status': 'success', 'user_id': 1}\n",
      "Status Code: 401\n",
      "Response Body: {'error': 'Unauthorized access'}\n"
     ]
    }
   ],
   "source": [
    "# User data of authorization to be added\n",
    "url = 'http://localhost:5000/create_auth'\n",
    "\n",
    "# User data to be added\n",
    "user_data = {\n",
    "    'auth_email': 'yishen@bu.edu',\n",
    "    'auth_password': 'password123'\n",
    "}\n",
    "\n",
    "# Sending a POST request to the API\n",
    "response = requests.post(url, json=user_data)\n",
    "\n",
    "print('Status Code:', response.status_code)\n",
    "print('Response Body:', response.json())\n",
    "\n",
    "# URL of the API endpoint\n",
    "url = 'http://localhost:5000/user'\n",
    "\n",
    "# User data to be added\n",
    "user_data = {\n",
    "    'user_name': 'Yi Shen',\n",
    "    'user_password': 'password123',\n",
    "    'user_email': 'yishen@bu.edu'\n",
    "}\n",
    "\n",
    "# Sending a POST request to the API\n",
    "response = requests.post(url, json=user_data)\n",
    "print('Status Code:', response.status_code)\n",
    "print('Response Body:', response.json())\n",
    "\n",
    "user_data2 = {\n",
    "    'user_name': 'Yi Shen2',\n",
    "    'user_password': 'password123',\n",
    "    'user_email': 'yishen2@bu.edu'\n",
    "}\n",
    "\n",
    "response = requests.post(url, json=user_data2)\n",
    "print('Status Code:', response.status_code)\n",
    "print('Response Body:', response.json())\n",
    "\n"
   ]
  },
  {
   "cell_type": "code",
   "execution_count": 17,
   "metadata": {},
   "outputs": [
    {
     "name": "stdout",
     "output_type": "stream",
     "text": [
      "(1, 'Yi Shen', 'password123', 'yishen@bu.edu')\n"
     ]
    }
   ],
   "source": [
    "# check the data in the database Table \"user\"\n",
    "conn = sqlite3.connect('projectdatabase.db')\n",
    "cursor = conn.cursor()\n",
    "\n",
    "# Execute a query to retrieve all data from the 'user' table\n",
    "cursor.execute(\"SELECT * FROM user\")\n",
    "\n",
    "# Fetch all rows from the query\n",
    "rows = cursor.fetchall()\n",
    "\n",
    "# Check if the table is empty\n",
    "if rows:\n",
    "    for row in rows:\n",
    "        print(row)\n",
    "else:\n",
    "    print(\"No data found in the 'user' table.\")\n",
    "\n",
    "# Close the connection\n",
    "conn.commit()\n",
    "conn.close()"
   ]
  },
  {
   "cell_type": "code",
   "execution_count": 18,
   "metadata": {},
   "outputs": [
    {
     "name": "stdout",
     "output_type": "stream",
     "text": [
      "Status Code: 201\n",
      "Response Details: {\n",
      "    \"message\": \"Data uploaded successfully\",\n",
      "    \"data_id\": 1\n",
      "}\n",
      "\n"
     ]
    }
   ],
   "source": [
    "# Upload data\n",
    "import requests\n",
    "\n",
    "# URL of the API endpoint\n",
    "url = 'http://localhost:5000/upload_data'\n",
    "\n",
    "# Data to be uploaded\n",
    "data_upload = {\n",
    "    \"user_id\": 1,\n",
    "    \"train_data\": \"encoded_train_data_here\",\n",
    "    \"test_data\": \"encoded_test_data_here\",\n",
    "    \"train_label\": \"encoded_train_label_here\",\n",
    "    \"test_label\": \"encoded_test_label_here\"\n",
    "}\n",
    "\n",
    "# Sending a POST request to the API\n",
    "response = requests.post(url, json=data_upload)\n",
    "\n",
    "print('Status Code:', response.status_code)\n",
    "if response.status_code == 200:\n",
    "    # Print JSON response if available\n",
    "    print('Response Body:', response.json())\n",
    "else:\n",
    "    # If JSON response is not available, print the plain text response\n",
    "    print('Response Details:', response.text)"
   ]
  },
  {
   "cell_type": "code",
   "execution_count": 19,
   "metadata": {},
   "outputs": [
    {
     "name": "stdout",
     "output_type": "stream",
     "text": [
      "Status Code: 201\n",
      "Response Body: {'message': 'Model created successfully', 'model_id': 1}\n"
     ]
    }
   ],
   "source": [
    "# Create Model\n",
    "url = 'http://localhost:5000/create_model'\n",
    "\n",
    "# Model data to be added\n",
    "model_data = {\n",
    "    \"user_id\": 1,\n",
    "    \"model_ver\": \"v1.0\"\n",
    "}\n",
    "\n",
    "# Sending a POST request to the API\n",
    "response = requests.post(url, json=model_data)\n",
    "\n",
    "print('Status Code:', response.status_code)\n",
    "if response.status_code == 201:\n",
    "    print('Response Body:', response.json())\n",
    "else:\n",
    "    print('Failed to create model:', response.text)"
   ]
  },
  {
   "cell_type": "code",
   "execution_count": 20,
   "metadata": {},
   "outputs": [
    {
     "name": "stdout",
     "output_type": "stream",
     "text": [
      "Status Code: 201\n",
      "Response Body: {'message': 'Project created successfully', 'project_id': 1}\n"
     ]
    }
   ],
   "source": [
    "# Create Project\n",
    "url = 'http://localhost:5000/create_project'\n",
    "# Project data to be added\n",
    "project_data = {\n",
    "    \"user_id\": 1,\n",
    "    \"model_id\": 1,\n",
    "    \"data_id\": 1\n",
    "}\n",
    "\n",
    "# Sending a POST request to the API\n",
    "response = requests.post(url, json=project_data)\n",
    "\n",
    "print('Status Code:', response.status_code)\n",
    "if response.status_code == 201:\n",
    "    print('Response Body:', response.json())\n",
    "else:\n",
    "    print('Failed to create project:', response.text)"
   ]
  },
  {
   "cell_type": "code",
   "execution_count": 21,
   "metadata": {},
   "outputs": [
    {
     "name": "stdout",
     "output_type": "stream",
     "text": [
      "Status Code: 201\n",
      "Response Body: {'message': 'Training data added successfully', 'product_id': 1}\n",
      "Status Code: 201\n",
      "Response Body: {'message': 'Testing data added successfully', 'product_id': 1}\n"
     ]
    }
   ],
   "source": [
    "url = 'http://localhost:5000/add_training'\n",
    "training_data = {\n",
    "    \"data_id\": 1,\n",
    "    \"training_points\": \"sample_points\",\n",
    "    \"training_parameters\": \"parameters\",\n",
    "    \"training_result\": \"training_result\"\n",
    "}\n",
    "\n",
    "response = requests.post(url, json=training_data)\n",
    "print('Status Code:', response.status_code)\n",
    "print('Response Body:', response.json())\n",
    "\n",
    "url = 'http://localhost:5000/add_testing'\n",
    "testing_data = {\n",
    "    \"data_id\": 1,\n",
    "    \"testing_result\": \"testing_result\"\n",
    "}\n",
    "\n",
    "response = requests.post(url, json=testing_data)\n",
    "print('Status Code:', response.status_code)\n",
    "print('Response Body:', response.json())"
   ]
  },
  {
   "cell_type": "code",
   "execution_count": 22,
   "metadata": {},
   "outputs": [
    {
     "name": "stdout",
     "output_type": "stream",
     "text": [
      "Update Training Parameters - Status Code: 200\n",
      "Update Training Parameters - Response Body: {'status': 'success', 'message': 'Training parameters updated successfully'}\n"
     ]
    }
   ],
   "source": [
    "# Change the parameters of network\n",
    "product_id = 1\n",
    "update_training_url = f'http://localhost:5000/update_training_parameters/1'\n",
    "updated_parameters = {\n",
    "    \"training_parameters\": \"updated_parameters\"\n",
    "}\n",
    "\n",
    "response = requests.put(update_training_url, json=updated_parameters)\n",
    "print('Update Training Parameters - Status Code:', response.status_code)\n",
    "print('Update Training Parameters - Response Body:', response.json())"
   ]
  },
  {
   "cell_type": "code",
   "execution_count": 23,
   "metadata": {},
   "outputs": [
    {
     "name": "stdout",
     "output_type": "stream",
     "text": [
      "Training Response: {'status': 'success', 'data': {'product_id': 1, 'data_id': 1, 'training_points': 'sample_points', 'training_parameters': 'updated_parameters', 'training_result': 'training_result'}}\n",
      "Testing Response: {'status': 'success', 'data': {'product_id': 1, 'data_id': 1, 'testing_result': 'testing_result'}}\n"
     ]
    }
   ],
   "source": [
    "# Get result of testing and training\n",
    "training_url = 'http://localhost:5000/get_training/1'  # product_id is 1\n",
    "training_response = requests.get(training_url)\n",
    "print('Training Response:', training_response.json())\n",
    "\n",
    "# Testing the Testing Results API\n",
    "testing_url = 'http://localhost:5000/get_testing/1'  # product_id is 1\n",
    "testing_response = requests.get(testing_url)\n",
    "print('Testing Response:', testing_response.json())"
   ]
  },
  {
   "cell_type": "code",
   "execution_count": 24,
   "metadata": {},
   "outputs": [
    {
     "name": "stdout",
     "output_type": "stream",
     "text": [
      "Analyse Response: {'status': 'success', 'analysis_result': 'Analysis: Training Result - training_result | Testing Result - testing_result'}\n"
     ]
    }
   ],
   "source": [
    "analyse_url = 'http://localhost:5000/analyse_results/1'  # product_id is 1\n",
    "analyse_response = requests.post(analyse_url)\n",
    "print('Analyse Response:', analyse_response.json())"
   ]
  },
  {
   "cell_type": "code",
   "execution_count": 27,
   "metadata": {},
   "outputs": [
    {
     "name": "stdout",
     "output_type": "stream",
     "text": [
      "Status Code: 201\n",
      "Response Body: {'message': 'Data published successfully'}\n"
     ]
    }
   ],
   "source": [
    "url = 'http://localhost:5000/publish'\n",
    "\n",
    "# Data to be published\n",
    "publish_data = {\n",
    "    \"user_id\": 1,\n",
    "    \"project_id\": 1,\n",
    "    \"data_id\": 1,\n",
    "    \"ana_result\": \"Analysis results here\"\n",
    "}\n",
    "\n",
    "# Sending a POST request to the API\n",
    "response = requests.post(url, json=publish_data)\n",
    "\n",
    "print('Status Code:', response.status_code)\n",
    "print('Response Body:', response.json())"
   ]
  },
  {
   "cell_type": "code",
   "execution_count": 29,
   "metadata": {},
   "outputs": [
    {
     "name": "stdout",
     "output_type": "stream",
     "text": [
      "Status Code: 200\n",
      "Response Body: {'status': 'success', 'data': [{'user_id': 1, 'project_id': 1, 'data_id': 1, 'ana_result': 'Analysis results here'}]}\n",
      "Status Code: 200\n",
      "Response Body: {'status': 'success', 'data': [{'user_id': 1, 'project_id': 1, 'data_id': 1, 'ana_result': 'Analysis results here'}]}\n"
     ]
    }
   ],
   "source": [
    "# Example URL for fetching all publications for a specific user\n",
    "url_user = 'http://localhost:5000/publish/1'\n",
    "\n",
    "response = requests.get(url_user)\n",
    "\n",
    "print('Status Code:', response.status_code)\n",
    "if response.status_code == 200:\n",
    "    print('Response Body:', response.json())\n",
    "else:\n",
    "    print('Failed to fetch data:', response.text)\n",
    "# Example URL for fetching a specific publication\n",
    "url_specific = 'http://localhost:5000/publish/1/1'\n",
    "\n",
    "# Choose the URL based on the test case\n",
    "response = requests.get(url_specific)\n",
    "\n",
    "print('Status Code:', response.status_code)\n",
    "if response.status_code == 200:\n",
    "    print('Response Body:', response.json())\n",
    "else:\n",
    "    print('Failed to fetch data:', response.text)"
   ]
  },
  {
   "cell_type": "code",
   "execution_count": 31,
   "metadata": {},
   "outputs": [
    {
     "name": "stdout",
     "output_type": "stream",
     "text": [
      "Records in user: [(1, 'Yi Shen', 'password123', 'yishen@bu.edu')]\n",
      "Records in projects: [(1, 1, 1, 1)]\n",
      "Records in dataupload: [(1, 1, 'encoded_train_data_here', 'encoded_test_data_here', 'encoded_train_label_here', 'encoded_test_label_here')]\n"
     ]
    }
   ],
   "source": [
    "def check_data(table_name):\n",
    "    conn = sqlite3.connect('projectdatabase.db')\n",
    "    c = conn.cursor()\n",
    "    try:\n",
    "        c.execute(f\"SELECT * FROM {table_name}\")\n",
    "        results = c.fetchall()\n",
    "        if not results:\n",
    "            print(f\"No records found in {table_name}.\")\n",
    "        else:\n",
    "            print(f\"Records in {table_name}: {results}\")\n",
    "    finally:\n",
    "        conn.close()\n",
    "\n",
    "# Check data in user, projects, and dataupload tables\n",
    "check_data(\"user\")\n",
    "check_data(\"projects\")\n",
    "check_data(\"dataupload\")"
   ]
  },
  {
   "cell_type": "code",
   "execution_count": 32,
   "metadata": {},
   "outputs": [
    {
     "name": "stdout",
     "output_type": "stream",
     "text": [
      "Delete Project Status Code: 200\n",
      "Delete Project Response: {'message': 'Project deleted successfully'}\n",
      "Delete Data Status Code: 200\n",
      "Delete Data Response: {'message': 'Data deleted successfully'}\n",
      "Delete User Status Code: 200\n",
      "Delete User Response: {'message': 'User deleted successfully'}\n"
     ]
    }
   ],
   "source": [
    "delete_project_url = 'http://localhost:5000/delete_project/1'  # Assuming project_id is 1\n",
    "delete_data_url = 'http://localhost:5000/delete_data/1'        # Assuming data_id is 1\n",
    "delete_user_url = 'http://localhost:5000/delete_user/1'        # Assuming user_id is 1\n",
    "\n",
    "# Sending DELETE request for a project\n",
    "response_project = requests.delete(delete_project_url)\n",
    "print('Delete Project Status Code:', response_project.status_code)\n",
    "print('Delete Project Response:', response_project.json())\n",
    "\n",
    "# Sending DELETE request for data\n",
    "response_data = requests.delete(delete_data_url)\n",
    "print('Delete Data Status Code:', response_data.status_code)\n",
    "print('Delete Data Response:', response_data.json())\n",
    "\n",
    "# Sending DELETE request for a user\n",
    "response_user = requests.delete(delete_user_url)\n",
    "print('Delete User Status Code:', response_user.status_code)\n",
    "print('Delete User Response:', response_user.json())\n"
   ]
  },
  {
   "cell_type": "code",
   "execution_count": 33,
   "metadata": {},
   "outputs": [
    {
     "name": "stdout",
     "output_type": "stream",
     "text": [
      "No records found in user.\n",
      "No records found in projects.\n",
      "No records found in dataupload.\n"
     ]
    }
   ],
   "source": [
    "def check_data(table_name):\n",
    "    conn = sqlite3.connect('projectdatabase.db')\n",
    "    c = conn.cursor()\n",
    "    try:\n",
    "        c.execute(f\"SELECT * FROM {table_name}\")\n",
    "        results = c.fetchall()\n",
    "        if not results:\n",
    "            print(f\"No records found in {table_name}.\")\n",
    "        else:\n",
    "            print(f\"Records in {table_name}: {results}\")\n",
    "    finally:\n",
    "        conn.close()\n",
    "\n",
    "# Check data in user, projects, and dataupload tables\n",
    "check_data(\"user\")\n",
    "check_data(\"projects\")\n",
    "check_data(\"dataupload\")"
   ]
  }
 ],
 "metadata": {
  "kernelspec": {
   "display_name": "EC530",
   "language": "python",
   "name": "python3"
  },
  "language_info": {
   "codemirror_mode": {
    "name": "ipython",
    "version": 3
   },
   "file_extension": ".py",
   "mimetype": "text/x-python",
   "name": "python",
   "nbconvert_exporter": "python",
   "pygments_lexer": "ipython3",
   "version": "3.12.1"
  }
 },
 "nbformat": 4,
 "nbformat_minor": 2
}
